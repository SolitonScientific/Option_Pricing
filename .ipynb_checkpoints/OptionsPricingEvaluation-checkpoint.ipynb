{
 "cells": [
  {
   "cell_type": "markdown",
   "metadata": {},
   "source": [
    "# Black-Scholes European Option Pricing Script"
   ]
  },
  {
   "cell_type": "code",
   "execution_count": 23,
   "metadata": {},
   "outputs": [],
   "source": [
    "# File Contains: Python code containing closed-form solutions for the valuation of European Options,\n",
    "# for backward compatability with Python 2.7\n",
    "from __future__ import division\n",
    "\n",
    "# import necessary libaries\n",
    "import math\n",
    "import numpy as np\n",
    "from scipy.stats import norm\n",
    "from scipy.stats import mvn\n",
    "\n",
    "# Plotting\n",
    "import matplotlib.pylab as pl\n",
    "import numpy as np"
   ]
  },
  {
   "cell_type": "markdown",
   "metadata": {},
   "source": [
    "# Option Pricing Theory: Black-Scholes model\n",
    "Black Scholes genre option models widely used to value European options. The original “Black Scholes” model was published in 1973 for non-dividend paying stocks. Since that time, a wide variety of extensions to the original Black Scholes model have been created. Modifications of the formula are used to price other financial instruments like dividend paying stocks, commodity futures, and FX forwards. Mathematically, these formulas are nearly identical. The primary difference between these models is whether the asset has a carrying cost (if the asset has a cost or benefit associated with holding it) and how the asset gets present valued. To illustrate this relationship, a “generalized” form of the Black Scholes equation is shown below.\n",
    "\n",
    "The Black Scholes model is based on number of assumptions about how financial markets operate. Black Scholes style models assume:\n",
    "\n",
    "1.\t**Arbitrage Free Markets**. Black Scholes formulas assume that traders try to maximize their personal profits and don’t allow arbitrage opportunities (riskless opportunities to make a profit) to persist. \n",
    "2.\t**Frictionless, Continuous Markets**. This assumption of frictionless markets assumes that it is possible to buy and sell any amount of the underlying at any time without transaction costs.\n",
    "3.\t**Risk Free Rates**. It is possible to borrow and lend money at a risk-free interest rate\n",
    "4.\t**Log-normally Distributed Price Movements**. Prices are log-normally distributed and described by Geometric Brownian Motion\n",
    "5.\t**Constant Volatility**. The Black Scholes genre options formulas assume that volatility is constant across the life of the option contract. \n",
    "\n",
    "In practice, these assumptions are not particularly limiting. The primary limitation imposed by these models is that it is possible to (reasonably) describe the dispersion of prices at some point in the future in a mathematical equation. \n",
    "\n",
    "An important concept of Black Scholes models is that the actual way that the underlying asset drifts over time isn't important to the valuation. Since European options can only be exercised when the contract expires, it is only the distribution of possible prices on that date that matters - the path that the underlying took to that point doesn't affect the value of the option. This is why the primary limitation of the model is being able to describe the dispersion of prices at some point in the future, not that the dispersion process is simplistic.\n",
    "\n",
    "The generalized Black-Scholes formula can found below (see *Figure 1 – Generalized Black Scholes Formula*). While these formulas may look complicated at first glance, most of the terms can be found as part of an options contract or are prices readily available in the market.  The only term that is difficult to calculate is the implied volatility (σ). Implied volatility is typically calculated using prices of other options that have recently been traded.\n",
    "\n",
    ">*Call Price*\n",
    ">\\begin{equation}\n",
    "C = Fe^{(b-r)T} N(D_1) - Xe^{-rT} N(D_2)\n",
    "\\end{equation}\n",
    "\n",
    ">*Put Price*\n",
    ">\\begin{equation}\n",
    "P = Xe^{-rT} N(-D_2) - Fe^{(b-r)T} N(-D_1)\n",
    "\\end{equation}\n",
    "\n",
    ">*with the following intermediate calculations*\n",
    "\n",
    ">\\begin{equation}\n",
    "D_1 = \\frac{ln\\frac{F}{X} + (b+\\frac{V^2}{2})T}{V*\\sqrt{T}}\n",
    "\\end{equation}\n",
    "\n",
    ">\\begin{equation}\n",
    "D_2 = D_1 - V\\sqrt{T}\n",
    "\\end{equation}\n",
    "\n",
    ">*and the following inputs*\n",
    "\n",
    ">|    Symbol    |    Meaning    |\n",
    ">|--------------|---------------------------------------------------------------------------------------------------------------------------------------------------------------------------------------------------------------------------------------------------------------------------------------------------------------------------------------------------------------------------------------|\n",
    ">|    F or S   |    **Underlying Price**. The price of the underlying asset on the valuation date. S is used commonly used to represent a spot price, F a forward price     |\n",
    ">|    X    |    **Strike Price**.   The strike, or exercise, price of the option.    |\n",
    ">|    T    |    **Time to expiration**. The time to expiration in years. This can be calculated   by comparing the time between the expiration date and the valuation date.   T   = (t_1 - t_0)/365    |\n",
    ">|    t_0    |    **Valuation Date**.   The date on which the option is being valued. For example, it might be   today’s date if the option we being valued today.    |\n",
    ">|    t_1    |    **Expiration Date**.   The date on which the option must be exercised.    |\n",
    ">|    V    |    **Volatility**.   The volatility of the underlying security. This factor usually cannot be directly observed in the market. It is most often calculated by looking at the prices for recent option transactions and back-solving a Black Scholes style equation to find the volatility that would result in the observed price. This is commonly abbreviated with the greek letter sigma,σ, although V is used here for consistency with the code below.    |\n",
    ">|    q    |    **Continuous Yield**.   Used in the Merton model, this is the continuous yield of the underlying   security. Option holders are typically not paid dividends or other payments   until they exercise the option. As a result, this factor decreases the value   of an option.    |\n",
    ">|    r    |    **Risk Free Rate**. This is expected return on a risk-free investment. This   is commonly a approximated by the yield on a low-risk government bond or the   rate that large banks borrow between themselves (LIBOR). The rate depends on   tenor of the cash flow. For example, a 10-year risk-free bond is likely to   have a different rate than a 20-year risk-free bond.[DE1]     |\n",
    ">|    rf    |    **Foreign   Risk Free Rate**. Used in the Garman Kohlhagen model, this is the risk   free rate of the foreign currency. Each currency will have a risk free rate.    |\n",
    ">*Figure 1 - Generalized Black Scholes Formula*"
   ]
  },
  {
   "cell_type": "markdown",
   "metadata": {},
   "source": [
    "## Model Implementation\n",
    "These functions encapsulate a generic version of the pricing formulas. They are primarily intended to be called by the other functions within this libary. The following functions will have a fixed interface so that they can be called directly for academic applicaitons that use the cost-of-carry (b) notation:\n",
    "\n",
    "    _GBS()                  A generalized European option model   \n",
    "    _GBS_ImpliedVol()       A generalized European option implied vol calculator\n",
    "    \n",
    "The other functions in this libary are called by the four main functions and are not expected to be interface safe (the implementation and interface may change over time)."
   ]
  },
  {
   "cell_type": "markdown",
   "metadata": {},
   "source": [
    "### Implementation for European Options"
   ]
  },
  {
   "cell_type": "code",
   "execution_count": 24,
   "metadata": {},
   "outputs": [],
   "source": [
    "# The primary class for calculating Generalized Black Scholes option prices and deltas\n",
    "# It is not intended to be part of this module's public interface\n",
    "\n",
    "# Inputs: option_type = \"p\" or \"c\", fs = price of underlying, x = strike, t = time to expiration, r = risk free rate\n",
    "#         b = cost of carry, v = implied volatility\n",
    "# Outputs: value, delta, gamma, theta, vega, rho\n",
    "def _gbs(option_type, fs, x, t, r, b, v):\n",
    "    _debug(\"Debugging Information: _gbs()\")\n",
    "    \n",
    "    # -----------\n",
    "    # Create preliminary calculations\n",
    "    t__sqrt = math.sqrt(t)\n",
    "    d1 = (math.log(fs / x) + (b + (v * v) / 2) * t) / (v * t__sqrt)\n",
    "    d2 = d1 - v * t__sqrt\n",
    "\n",
    "    if option_type == \"c\":\n",
    "        # it's a call\n",
    "        _debug(\"     Call Option\")\n",
    "        value = fs * math.exp((b - r) * t) * norm.cdf(d1) - x * math.exp(-r * t) * norm.cdf(d2)\n",
    "        delta = math.exp((b - r) * t) * norm.cdf(d1)\n",
    "        gamma = math.exp((b - r) * t) * norm.pdf(d1) / (fs * v * t__sqrt)\n",
    "        theta = -(fs * v * math.exp((b - r) * t) * norm.pdf(d1)) / (2 * t__sqrt) - (b - r) * fs * math.exp(\n",
    "            (b - r) * t) * norm.cdf(d1) - r * x * math.exp(-r * t) * norm.cdf(d2)\n",
    "        vega = math.exp((b - r) * t) * fs * t__sqrt * norm.pdf(d1)\n",
    "        rho = x * t * math.exp(-r * t) * norm.cdf(d2)\n",
    "    else:\n",
    "        # it's a put\n",
    "        _debug(\"     Put Option\")\n",
    "        value = x * math.exp(-r * t) * norm.cdf(-d2) - (fs * math.exp((b - r) * t) * norm.cdf(-d1))\n",
    "        delta = -math.exp((b - r) * t) * norm.cdf(-d1)\n",
    "        gamma = math.exp((b - r) * t) * norm.pdf(d1) / (fs * v * t__sqrt)\n",
    "        theta = -(fs * v * math.exp((b - r) * t) * norm.pdf(d1)) / (2 * t__sqrt) + (b - r) * fs * math.exp(\n",
    "            (b - r) * t) * norm.cdf(-d1) + r * x * math.exp(-r * t) * norm.cdf(-d2)\n",
    "        vega = math.exp((b - r) * t) * fs * t__sqrt * norm.pdf(d1)\n",
    "        rho = -x * t * math.exp(-r * t) * norm.cdf(-d2)\n",
    "\n",
    "    _debug(\"     d1= {0}\\n     d2 = {1}\".format(d1, d2))\n",
    "    _debug(\"     delta = {0}\\n     gamma = {1}\\n     theta = {2}\\n     vega = {3}\\n     rho={4}\".format(delta, gamma,\n",
    "                                                                                                        theta, vega,\n",
    "                                                                                                        rho))\n",
    "    \n",
    "    return value, delta, gamma, theta, vega, rho    "
   ]
  },
  {
   "cell_type": "markdown",
   "metadata": {},
   "source": [
    "### Implementation: Implied Volatility\n",
    "This section implements implied volatility calculations. It contains implementation of a **Newton-Raphson Search.** This is a fast implied volatility search that can be used when there is a reliable estimate of Vega (i.e., European options) "
   ]
  },
  {
   "cell_type": "code",
   "execution_count": 25,
   "metadata": {},
   "outputs": [],
   "source": [
    "# ----------\n",
    "# Find the Implied Volatility of an European (GBS) Option given a price\n",
    "# using Newton-Raphson method for greater speed since Vega is available\n",
    "\n",
    "#def _gbs_implied_vol(option_type, fs, x, t, r, b, cp, precision=.00001, max_steps=100):\n",
    "#    return _newton_implied_vol(_gbs, option_type, x, fs, t, b, r, cp, precision, max_steps)"
   ]
  },
  {
   "cell_type": "markdown",
   "metadata": {},
   "source": [
    "### Public Interface for valuation functions\n",
    "This section encapsulates the functions that user will call to value certain options. These function primarily figure out the cost-of-carry term (b) and then call the generic version of the function (like _GBS() or _American). All of these functions return an array containg the premium and the greeks.\n"
   ]
  },
  {
   "cell_type": "code",
   "execution_count": 26,
   "metadata": {},
   "outputs": [],
   "source": [
    "# ---------------------------\n",
    "# Black Scholes: stock Options (no dividend yield)\n",
    "# Inputs: \n",
    "#    option_type = \"p\" or \"c\"\n",
    "#    fs          = price of underlying\n",
    "#    x           = strike\n",
    "#    t           = time to expiration\n",
    "#    v           = implied volatility\n",
    "#    r           = risk free rate\n",
    "#    q           = dividend payment\n",
    "#    b           = cost of carry\n",
    "# Outputs: \n",
    "#    value       = price of the option\n",
    "#    delta       = first derivative of value with respect to price of underlying\n",
    "#    gamma       = second derivative of value w.r.t price of underlying\n",
    "#    theta       = first derivative of value w.r.t. time to expiration\n",
    "#    vega        = first derivative of value w.r.t. implied volatility\n",
    "#    rho         = first derivative of value w.r.t. risk free rates\n",
    "def BlackScholes(option_type, fs, x, t, r, v):\n",
    "    b = r\n",
    "    return _gbs(option_type, fs, x, t, r, b, v)"
   ]
  },
  {
   "cell_type": "markdown",
   "metadata": {},
   "source": [
    "### Public Interface for implied Volatility Functions"
   ]
  },
  {
   "cell_type": "code",
   "execution_count": 27,
   "metadata": {},
   "outputs": [],
   "source": [
    "# Inputs: \n",
    "#    option_type = \"p\" or \"c\"\n",
    "#    fs          = price of underlying\n",
    "#    x           = strike\n",
    "#    t           = time to expiration\n",
    "#    v           = implied volatility\n",
    "#    r           = risk free rate\n",
    "#    q           = dividend payment\n",
    "#    b           = cost of carry\n",
    "# Outputs: \n",
    "#    value       = price of the option\n",
    "#    delta       = first derivative of value with respect to price of underlying\n",
    "#    gamma       = second derivative of value w.r.t price of underlying\n",
    "#    theta       = first derivative of value w.r.t. time to expiration\n",
    "#    vega        = first derivative of value w.r.t. implied volatility\n",
    "#    rho         = first derivative of value w.r.t. risk free rates"
   ]
  },
  {
   "cell_type": "code",
   "execution_count": 28,
   "metadata": {},
   "outputs": [],
   "source": [
    "#def euro_implied_vol(option_type, fs, x, t, r, q, cp):\n",
    "#    b = r - q\n",
    "#    return _gbs_implied_vol(option_type, fs, x, t, r, b, cp)"
   ]
  },
  {
   "cell_type": "markdown",
   "metadata": {},
   "source": [
    "### Implementation: Helper Functions\n",
    "These functions aren't part of the main code but serve as utility function mostly used for debugging"
   ]
  },
  {
   "cell_type": "code",
   "execution_count": 29,
   "metadata": {},
   "outputs": [],
   "source": [
    "# ---------------------------\n",
    "# Helper Function for Debugging\n",
    "\n",
    "# Prints a message if running code from this module and _DEBUG is set to true\n",
    "# otherwise, do nothing\n",
    "\n",
    "# Developer can toggle _DEBUG to True for more messages\n",
    "# normally this is set to False\n",
    "_DEBUG = False\n",
    "\n",
    "def _debug(debug_input):\n",
    "    if (__name__ is \"__main__\") and (_DEBUG is True):\n",
    "        print(debug_input)"
   ]
  },
  {
   "cell_type": "markdown",
   "metadata": {},
   "source": [
    "\n",
    "## Real Calculations of Options Prices"
   ]
  },
  {
   "cell_type": "code",
   "execution_count": 30,
   "metadata": {},
   "outputs": [
    {
     "data": {
      "text/plain": [
       "2.1333684449162007"
      ]
     },
     "execution_count": 30,
     "metadata": {},
     "output_type": "execute_result"
    }
   ],
   "source": [
    "bs = BlackScholes('c', fs=60, x=65, t=0.25, r=0.08, v=0.30)\n",
    "optionPrice = bs[0]\n",
    "optionPrice"
   ]
  },
  {
   "cell_type": "markdown",
   "metadata": {},
   "source": [
    "## Option prices charts"
   ]
  },
  {
   "cell_type": "code",
   "execution_count": 31,
   "metadata": {},
   "outputs": [
    {
     "data": {
      "image/png": "[encoded data removed]",
      "text/plain": [
       "<matplotlib.figure.Figure at 0x175c7d0>"
      ]
     },
     "metadata": {},
     "output_type": "display_data"
    }
   ],
   "source": [
    "stockPrices = np.arange(50, 100, 1)\n",
    "prices = stockPrices * 0\n",
    "\n",
    "stockPrice = 60\n",
    "strike = 65\n",
    "timeToExpiration = 0.25\n",
    "impliedVolatility = 0.30\n",
    "riskFreeRate = 0.05\n",
    "pl.title('Stock Option Price')\n",
    "\n",
    "for i in range(len(stockPrices)):\n",
    "    prices[i] = BlackScholes('c', stockPrices[i], strike, t = timeToExpiration, r = riskFreeRate, v = impliedVolatility)[0]\n",
    "\n",
    "pl.plot(stockPrices, prices, label = 'Option Price')\n",
    "pl.xlabel(\"Stock Price\")\n",
    "pl.ylabel(\"Option Price\")\n",
    "pl.grid(True)\n",
    "pl.show()"
   ]
  },
  {
   "cell_type": "code",
   "execution_count": 32,
   "metadata": {},
   "outputs": [
    {
     "data": {
      "image/png": "[encoded data removed]",
      "text/plain": [
       "<matplotlib.figure.Figure at 0x19c1130>"
      ]
     },
     "metadata": {},
     "output_type": "display_data"
    }
   ],
   "source": [
    "timeToExpiration = np.arange(0.1, 1, 0.05)\n",
    "prices = timeToExpiration * 0\n",
    "\n",
    "stockPrice = 60\n",
    "strike = 65\n",
    "#timeToExpiration = 0.25\n",
    "impliedVolatility = 0.30\n",
    "riskFreeRate = 0.05\n",
    "pl.title('Stock Option Price')\n",
    "\n",
    "for i in range(len(prices)):\n",
    "    prices[i] = BlackScholes('c', stockPrice, strike, t = timeToExpiration[i], r = riskFreeRate, v = impliedVolatility)[0]\n",
    "\n",
    "pl.plot(timeToExpiration, prices, label = 'Option Price')\n",
    "pl.xlabel(\"Time to Expiry\")\n",
    "pl.ylabel(\"Option Price\")\n",
    "pl.grid(True)\n",
    "pl.show()"
   ]
  },
  {
   "cell_type": "code",
   "execution_count": 33,
   "metadata": {},
   "outputs": [
    {
     "data": {
      "image/png": "[encoded data removed]",
      "text/plain": [
       "<matplotlib.figure.Figure at 0x1a1d230>"
      ]
     },
     "metadata": {},
     "output_type": "display_data"
    }
   ],
   "source": [
    "strikes = np.arange(50, 80, 1)\n",
    "prices = strikes * 0\n",
    "\n",
    "stockPrice = 60\n",
    "strike = 65\n",
    "timeToExpiration = 0.25\n",
    "impliedVolatility = 0.30\n",
    "riskFreeRate = 0.05\n",
    "pl.title('Stock Option Price')\n",
    "\n",
    "for i in range(len(prices)):\n",
    "    prices[i] = BlackScholes('c', stockPrice, strikes[i], t = timeToExpiration, r = riskFreeRate, v = impliedVolatility)[0]\n",
    "\n",
    "pl.plot(strikes, prices, label = 'Option Price')\n",
    "pl.xlabel(\"Striking Price\")\n",
    "pl.ylabel(\"Option Price\")\n",
    "pl.grid(True)\n",
    "pl.show()"
   ]
  },
  {
   "cell_type": "code",
   "execution_count": 34,
   "metadata": {},
   "outputs": [
    {
     "data": {
      "image/png": "[encoded data removed]",
      "text/plain": [
       "<matplotlib.figure.Figure at 0x1a60050>"
      ]
     },
     "metadata": {},
     "output_type": "display_data"
    }
   ],
   "source": [
    "strikes = np.arange(50, 80, 1)\n",
    "prices = strikes * 0\n",
    "\n",
    "stockPrice = 60\n",
    "strike = 65\n",
    "timeToExpiration = 0.25\n",
    "impliedVolatility = 0.30\n",
    "riskFreeRate = 0.05\n",
    "pl.title('Stock Put Option Price')\n",
    "\n",
    "for i in range(len(prices)):\n",
    "    prices[i] = BlackScholes('p', stockPrice, strikes[i], t = timeToExpiration, r = riskFreeRate, v = impliedVolatility)[0]\n",
    "\n",
    "pl.plot(strikes, prices, label = 'Option Price')\n",
    "pl.xlabel(\"Striking Price\")\n",
    "pl.ylabel(\"Option Price\")\n",
    "pl.grid(True)\n",
    "pl.show()"
   ]
  },
  {
   "cell_type": "code",
   "execution_count": null,
   "metadata": {},
   "outputs": [],
   "source": []
  }
 ],
 "metadata": {
  "kernelspec": {
   "display_name": "Python 3",
   "language": "python",
   "name": "python3"
  },
  "language_info": {
   "codemirror_mode": {
    "name": "ipython",
    "version": 3
   },
   "file_extension": ".py",
   "mimetype": "text/x-python",
   "name": "python",
   "nbconvert_exporter": "python",
   "pygments_lexer": "ipython3",
   "version": "3.6.2"
  }
 },
 "nbformat": 4,
 "nbformat_minor": 2
}
